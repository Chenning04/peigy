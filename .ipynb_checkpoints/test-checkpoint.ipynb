{
 "cells": [
  {
   "cell_type": "code",
   "execution_count": 7,
   "id": "8732a3ce-373c-4ec8-bb5d-7293b7e30cac",
   "metadata": {
    "tags": []
   },
   "outputs": [],
   "source": [
    "from src.piegy import model, figures, analysis, videos\n",
    "from src.piegy.data_tools import read_data, save_data\n",
    "import random"
   ]
  },
  {
   "cell_type": "raw",
   "id": "192ef7d0-b1c9-4ef5-b3dc-18b15feabe14",
   "metadata": {},
   "source": [
    "Actual - Expected Rounds:\n",
    "\n",
    "Uniform:\n",
    "10 * 10 * 100: 126709 / 610114\n",
    "10 * 10 * 300: 227471 / 1830343\n",
    "20 * 20 * 100: 537565 / 2440457\n",
    "20 * 20 * 300: 1059228 / 7321372\n",
    "\n",
    "Two Good Patches:\n",
    "10 * 10 * 300: 768169 / 2594971\n",
    "\n",
    "Random (rand - 0.5):\n",
    "10 * 10 * 300: 4559190 / 56185461"
   ]
  },
  {
   "cell_type": "code",
   "execution_count": null,
   "id": "dc1768b3-857c-43b3-a2b1-567471b45aac",
   "metadata": {},
   "outputs": [],
   "source": []
  },
  {
   "cell_type": "code",
   "execution_count": 2,
   "id": "0f3546db-5887-45d2-a5b9-148c14ed6bf9",
   "metadata": {
    "tags": []
   },
   "outputs": [],
   "source": [
    "N = 10                  # Number of rows\n",
    "M = 10                  # Number of cols\n",
    "maxtime = 300           # how long you want the model to run\n",
    "record_itv = 0.1        # how often to record data.\n",
    "sim_time = 1            # repeat simulation to reduce randomness\n",
    "boundary = True         # boundary condition.\n",
    "\n",
    "# initial population for the N x M patches. \n",
    "I = [[[44, 22] for _ in range(M)] for _ in range(N)]\n",
    "\n",
    "# flattened payoff matrices, total resource is 0.4, cost of fighting is 0.1\n",
    "X = [[[-0.1, 0.4, 0, 0.2] for _ in range(M)] for _ in range(N)]\n",
    "\n",
    "# patch variables\n",
    "P = [[[0.5, 0.5, 200, 200, 0.001, 0.001] for _ in range(M)] for _ in range(N)]\n",
    "\n",
    "print_pct = 5           # print progress\n",
    "seed = 6               # seed for random number generation\n",
    "UV_dtype = 'float32'    # data type for population\n",
    "pi_dyna = 'float64'    # data type for payoff"
   ]
  },
  {
   "cell_type": "code",
   "execution_count": 3,
   "id": "bfbfd6ef-224e-4a3a-b8df-3954ceba8c21",
   "metadata": {
    "tags": []
   },
   "outputs": [],
   "source": [
    "sim = model.simulation(N, M, maxtime, record_itv, sim_time, boundary, I, X, P, \n",
    "                        print_pct = print_pct, seed = seed, UV_dtype = UV_dtype, pi_dtype = pi_dyna)"
   ]
  },
  {
   "cell_type": "code",
   "execution_count": 5,
   "id": "cc2925d6-16a8-46c6-9e90-61f42c33745e",
   "metadata": {
    "tags": []
   },
   "outputs": [
    {
     "name": "stdout",
     "output_type": "stream",
     "text": [
      "runtime: 8.38 s                       \n"
     ]
    }
   ],
   "source": [
    "model.run(sim, predict_runtime = False)"
   ]
  },
  {
   "cell_type": "code",
   "execution_count": null,
   "id": "60e5ba05-b089-487c-99df-b341a682b176",
   "metadata": {
    "tags": []
   },
   "outputs": [],
   "source": [
    "videos.make_video(sim, dirs = 'videos')"
   ]
  },
  {
   "cell_type": "code",
   "execution_count": null,
   "id": "cab0a63a-839d-4225-bd8b-10174d148853",
   "metadata": {},
   "outputs": [],
   "source": []
  }
 ],
 "metadata": {
  "kernelspec": {
   "display_name": "Python 3 (ipykernel)",
   "language": "python",
   "name": "python3"
  },
  "language_info": {
   "codemirror_mode": {
    "name": "ipython",
    "version": 3
   },
   "file_extension": ".py",
   "mimetype": "text/x-python",
   "name": "python",
   "nbconvert_exporter": "python",
   "pygments_lexer": "ipython3",
   "version": "3.10.8"
  }
 },
 "nbformat": 4,
 "nbformat_minor": 5
}
